{
 "cells": [
  {
   "cell_type": "markdown",
   "metadata": {},
   "source": [
    "## Complexity of an algorithm\n",
    "- The amount of time and space required by an algorithm for an input of size n usually depends on the size of the input. \n",
    "\n",
    "- The time and space required by an algorithm are measured as a function of the size of the input data. \n",
    " \n",
    "- The size of the input data is usually represented by the variable n. \n",
    "\n",
    "- The time and space required by an algorithm can be expressed as a function of n. The function f(n) is used to represent the time and space required by an algorithm. \n",
    "\n",
    "- The function f(n) is called the complexity of the algorithm. The complexity of an algorithm is a measure of the amount of time and space required by the algorithm for an input of size"
   ]
  },
  {
   "cell_type": "markdown",
   "metadata": {},
   "source": [
    "## Big O notation\n",
    "- The Big O notation is used to represent the complexity of an algorithm.\n",
    "    \n",
    "- To represent the upper bound of the complexity of an algorithm. \n",
    "     \n",
    "- To represent the worst-case scenario of the complexity of an algorithm. \n",
    "\n",
    "- To represent the maximum amount of time and space required by an algorithm for an input of size n. \n",
    "\n",
    "- To represent the complexity of an algorithm in terms of the size of the input data. \n",
    "    \n",
    "- To represent the complexity of an algorithm in terms of the number of operations performed by the algorithm. "
   ]
  },
  {
   "cell_type": "markdown",
   "metadata": {},
   "source": [
    "### Time complexity\n",
    "![](images/big0.png)\n",
    "![](images/big01.png)\n",
    "![](images/big02.png)\n",
    "![](images/big03.png)\n",
    "\n",
    "### Space complexity"
   ]
  },
  {
   "cell_type": "markdown",
   "metadata": {},
   "source": []
  }
 ],
 "metadata": {
  "language_info": {
   "name": "python"
  }
 },
 "nbformat": 4,
 "nbformat_minor": 2
}
