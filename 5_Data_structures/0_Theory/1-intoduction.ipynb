{
 "cells": [
  {
   "cell_type": "markdown",
   "metadata": {},
   "source": [
    "## Data structure\n",
    "- DS is a way of organizing and storing data in a computer so that it can be accessed and modified efficiently.\n",
    "\n",
    "- They define the relationship between the data, operations that can be performed on the data and the constraints on these operations.\n",
    "\n",
    "### Types of Data structures\n",
    "![](images/linear-DS.png)\n",
    "![](images/non-linear-DS.png)\n",
    "![](images/static.png)\n",
    "![](images/dynamic.png)"
   ]
  },
  {
   "cell_type": "markdown",
   "metadata": {},
   "source": [
    "## Categories of data structures\n",
    "\n",
    "### Built in data structures\n",
    "#### 1. Lists\n",
    "- Ordered collections that are mutable, meaning you can modify their contents. They allow duplicate elements.\n",
    "\n",
    "- `Use Case:`\n",
    "Storing a sequence of items where order matters, such as a list of tasks or a collection of names.\n",
    "\n",
    "\n",
    "#### 2. Tuples\n",
    "- Ordered collections that are immutable, meaning their contents cannot be changed after creation. They also allow duplicate elements.\n",
    "\n",
    "- `Use Case:`\n",
    "Storing fixed collections of items, such as coordinates (latitude, longitude) or database records.\n",
    "\n",
    "#### 3. Sets\n",
    "Unordered collections of unique elements, meaning no duplicates are allowed.\n",
    "\n",
    "- `Use Case:`\n",
    "Storing unique items, such as a collection of distinct values or removing duplicates from a list.\n",
    "\n",
    "#### 4. Dictionaries\n",
    "- Unordered collections of key-value pairs. Each key must be unique, and keys are used to retrieve corresponding values.\n",
    "\n",
    "- `Use Case:`\n",
    "Storing and quickly looking up values based on unique keys, such as a phone book or a dictionary of word definitions.\n",
    "\n",
    "### User defined data structures\n",
    "\n",
    "#### 1. Arrays\n",
    "- Collections of elements identified by index. They are typically of fixed size and contain elements of the same type.\n",
    "       \n",
    "- `Use Case:`\n",
    "Efficiently storing and accessing a collection of items, such as a list of numbers.\n",
    "\n",
    "#### 2. Linked Lists\n",
    "- Linear collections of elements where each element points to the next. Elements are called nodes, and the first node is called the head.\n",
    "       \n",
    "- `Use Case:`\n",
    "Efficiently inserting and deleting elements, especially when the position is known, such as in a to-do list.\n",
    "\n",
    "#### 3. Stacks\n",
    "- Collections of elements with Last In First Out (LIFO) order. The last element added is the first to be removed.\n",
    "       \n",
    "- `Use Case:`\n",
    "Managing function calls in programming, undo mechanisms in text editors, or tracking browser history.\n",
    "\n",
    "#### 4. Queues\n",
    "- Collections of elements with First In First Out (FIFO) order. The first element added is the first to be removed.\n",
    "      \n",
    "- `Use Case:`\n",
    "Managing tasks in a print queue, handling requests in web servers, or breadth-first search in algorithms."
   ]
  },
  {
   "cell_type": "markdown",
   "metadata": {},
   "source": [
    "\n",
    "#### 5. Trees\n",
    "- Hierarchical data structures with a root node and children nodes. Each node may have zero or more children.\n",
    "      \n",
    "##### Binary Trees: Each node has at most two children.\n",
    "\n",
    "- `Binary Search Trees (BSTs):` Binary trees where left children are less than the parent and right children are greater.\n",
    "   \n",
    "- `AVL Trees:` Self-balancing BSTs where heights of subtrees differ by at most one.\n",
    "      \n",
    "- `Red-Black Trees:` Self-balancing BSTs with specific balancing rules to ensure logarithmic height.\n",
    "    - Rules of Red-Black trees\n",
    "   \n",
    "- `B-Trees:` Self-balancing trees optimized for systems that read and write large blocks of data.\n",
    "      \n",
    "- `B+ Trees:` Variants of B-trees where all values are at leaf level, linked for efficient sequential access.\n",
    "   \n",
    "- `Use Case:`\n",
    "Efficient searching, inserting, and deleting operations, such as in databases and file systems. \n"
   ]
  },
  {
   "cell_type": "markdown",
   "metadata": {},
   "source": [
    "#### 6. Graphs\n",
    "- Collections of nodes (vertices) connected by edges (arcs). Can represent various relationships between objects.\n",
    "      \n",
    "- `Directed Graphs:`\n",
    "Edges have a direction, indicating a one-way relationship.\n",
    "      \n",
    "- `Undirected Graphs:`\n",
    "Edges have no direction, indicating a two-way relationship.\n",
    "      \n",
    "- `Weighted Graphs:`\n",
    "Edges have weights representing the cost or distance between nodes.\n",
    "      \n",
    "- `Unweighted Graphs:`\n",
    "Edges do not have weights.\n",
    "\n",
    "- `Use Case:`\n",
    "Representing networks like social networks, transportation networks, or dependency graphs in tasks."
   ]
  },
  {
   "cell_type": "markdown",
   "metadata": {},
   "source": [
    "#### 7. Hash Tables\n",
    "- Data structures that map keys to values for efficient lookup. They use a hash function to compute an index into an array of buckets or slots.\n",
    "      \n",
    "- `Use Case:`\n",
    "      Fast data retrieval, such as in dictionaries, caches, and database indexing.\n",
    "\n",
    "#### 8. Heaps\n",
    "- Specialized tree-based structures used to manage a priority queue. Elements are arranged such that the parent node is either greater than or equal to (max-heap) or less than or equal to (min-heap) its children.\n",
    "\n",
    "- `Use Case:`\n",
    "Implementing priority queues, scheduling processes in operating systems, or finding the k-largest elements in a list.\n",
    "\n",
    "#### 9. Disjoint Sets\n",
    "- Data structures used to manage a partition of a set into disjoint subsets. Supports efficient union and find operations.\n",
    "      \n",
    "- `Use Case:`\n",
    "Managing connected components in a graph, network connectivity, or Kruskal's algorithm for minimum spanning trees."
   ]
  },
  {
   "cell_type": "markdown",
   "metadata": {},
   "source": [
    "### Why You Should Learn Data Structures and Algorithms\n",
    "\n",
    "1. You can **think about a problem systematically** and solve it systematically step-by-step.\n",
    "\n",
    "2. You can **envision different inputs, outputs, and edge cases** for programs you write.\n",
    "\n",
    "3. You can **communicate your ideas clearly** to co-workers and incorporate their suggestions.\n",
    "\n",
    "4. Most importantly, you can **convert your thoughts and ideas into working code** that's also readable."
   ]
  },
  {
   "cell_type": "markdown",
   "metadata": {},
   "source": []
  }
 ],
 "metadata": {
  "language_info": {
   "name": "python"
  }
 },
 "nbformat": 4,
 "nbformat_minor": 2
}
