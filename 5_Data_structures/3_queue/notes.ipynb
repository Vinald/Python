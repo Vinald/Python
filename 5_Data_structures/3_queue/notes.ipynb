{
 "cells": [
  {
   "cell_type": "markdown",
   "metadata": {},
   "source": [
    "## Queue\n",
    "- Linear data structure\n",
    "\n",
    "- Follows First in first out (FIFO)\n",
    "\n",
    "- Insertion can take place from the rear end\n",
    "\n",
    "- Deletion can take place from the front end\n",
    "\n",
    "### Operations\n",
    "- Enqueue: Insert an element at the rear end\n",
    "\n",
    "- Dequeue: Remove an element from the front end\n",
    "\n",
    "- Front: Get the front element\n",
    "\n",
    "- Rear: Get the rear element\n",
    "\n",
    "- IsEmpty: Check if the queue is empty\n",
    "\n",
    "- IsFull: Check if the queue is full\n",
    "\n",
    "- Interrupt handling\n",
    "\n",
    "\n",
    "## Complexity\n",
    "\n",
    "- Enqueue: O(1)\n",
    "\n",
    "- Dequeue: O(1)\n",
    "\n",
    "- Front: O(1)\n",
    "\n",
    "- Rear: O(1)\n",
    "\n",
    "- IsEmpty: O(1)\n",
    "\n",
    "- IsFull: O(1)"
   ]
  },
  {
   "cell_type": "markdown",
   "metadata": {},
   "source": [
    "### Applications\n",
    "\n",
    "- CPU scheduling\n",
    "\n",
    "- Disk scheduling\n",
    "\n",
    "- Printer queue\n",
    "\n",
    "- Call center systems\n",
    "\n",
    "- Traffic management\n",
    "\n",
    "- Simulation systems\n",
    "\n",
    "- Buffer\n",
    "\n",
    "- File IO\n",
    "\n",
    "- Breadth-first search\n",
    "\n",
    "- Component of other data structures"
   ]
  },
  {
   "cell_type": "markdown",
   "metadata": {},
   "source": []
  }
 ],
 "metadata": {
  "language_info": {
   "name": "python"
  }
 },
 "nbformat": 4,
 "nbformat_minor": 2
}
