{
 "cells": [
  {
   "cell_type": "markdown",
   "metadata": {},
   "source": [
    "## Stack\n",
    "- Linear data structure\n",
    "\n",
    "- Follows the principle of Last In First Out (LIFO)\n",
    "\n",
    "- This means the last element inserted inside the stack is removed first.\n",
    "\n",
    "- Insertion and removal of elements is done at one end"
   ]
  },
  {
   "cell_type": "markdown",
   "metadata": {},
   "source": [
    "### Stack operations\n",
    "- Push: Add an element to the top of the stack\n",
    "\n",
    "- Pop: Remove an element from the top of the stack\n",
    "\n",
    "- Peek: Get the top element of the stack without removing it\n",
    "\n",
    "- isEmpty: Check if the stack is empty\n",
    "\n",
    "- isFull: Check if the stack is full\n",
    "\n",
    "- size(): Get the size of the stack\n",
    "\n",
    "- top(): Get the reference of the top element of the stack"
   ]
  },
  {
   "cell_type": "markdown",
   "metadata": {},
   "source": [
    "### Applications of stack\n",
    "- Function calls and recursion\n",
    "\n",
    "- Undo mechanism in text editors\n",
    "\n",
    "- Backtracking algorithms\n",
    "\n",
    "- Expression evaluation and conversion\n",
    "\n",
    "- Parenthesis checking\n",
    "\n",
    "- Memory management\n",
    "\n",
    "- Browser history\n",
    "\n",
    "- Tree traversal\n",
    "\n",
    "- Graph algorithms\n",
    "\n",
    "- Component of other data structures"
   ]
  },
  {
   "cell_type": "markdown",
   "metadata": {},
   "source": [
    "### Complexity for a stack\n",
    "- Push: O(1)\n",
    "\n",
    "- Pop: O(1)\n",
    "\n",
    "- Peek: O(1)\n",
    "\n",
    "- isEmpty: O(1)\n",
    "\n",
    "- isFull: O(1)"
   ]
  },
  {
   "cell_type": "markdown",
   "metadata": {},
   "source": []
  },
  {
   "cell_type": "code",
   "execution_count": null,
   "metadata": {},
   "outputs": [],
   "source": []
  }
 ],
 "metadata": {
  "kernelspec": {
   "display_name": "allenv",
   "language": "python",
   "name": "python3"
  },
  "language_info": {
   "codemirror_mode": {
    "name": "ipython",
    "version": 3
   },
   "file_extension": ".py",
   "mimetype": "text/x-python",
   "name": "python",
   "nbconvert_exporter": "python",
   "pygments_lexer": "ipython3",
   "version": "3.12.3"
  }
 },
 "nbformat": 4,
 "nbformat_minor": 2
}
