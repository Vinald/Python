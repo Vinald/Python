{
 "cells": [
  {
   "cell_type": "markdown",
   "metadata": {},
   "source": [
    "## Implementations of Stack\n",
    "### 1. Using lists\n",
    "\n",
    "- append(): to add an element to stack\n",
    "\n",
    "- pop(): to remove an element from stack"
   ]
  },
  {
   "cell_type": "code",
   "execution_count": 1,
   "metadata": {},
   "outputs": [
    {
     "data": {
      "text/plain": [
       "['1', '2', '3', 'sam']"
      ]
     },
     "execution_count": 1,
     "metadata": {},
     "output_type": "execute_result"
    }
   ],
   "source": [
    "# Empty list\n",
    "stack = []\n",
    "\n",
    "# Adding elements to stack\n",
    "stack.append('1')\n",
    "stack.append('2')\n",
    "stack.append('3')\n",
    "stack.append('sam')\n",
    "\n",
    "# Checking the stack\n",
    "stack "
   ]
  },
  {
   "cell_type": "code",
   "execution_count": 2,
   "metadata": {},
   "outputs": [
    {
     "data": {
      "text/plain": [
       "'sam'"
      ]
     },
     "execution_count": 2,
     "metadata": {},
     "output_type": "execute_result"
    }
   ],
   "source": [
    "stack.pop()"
   ]
  },
  {
   "cell_type": "code",
   "execution_count": 3,
   "metadata": {},
   "outputs": [
    {
     "data": {
      "text/plain": [
       "['1', '2', '3']"
      ]
     },
     "execution_count": 3,
     "metadata": {},
     "output_type": "execute_result"
    }
   ],
   "source": [
    "stack"
   ]
  },
  {
   "cell_type": "markdown",
   "metadata": {},
   "source": [
    "### 2. Using a deque\n",
    "\n",
    "- Faster than stack creation using lists when adding and removing elements\n"
   ]
  },
  {
   "cell_type": "code",
   "execution_count": 11,
   "metadata": {},
   "outputs": [],
   "source": [
    "from collections import deque"
   ]
  },
  {
   "cell_type": "code",
   "execution_count": 12,
   "metadata": {},
   "outputs": [
    {
     "data": {
      "text/plain": [
       "deque(['1', '2', 'sam'])"
      ]
     },
     "execution_count": 12,
     "metadata": {},
     "output_type": "execute_result"
    }
   ],
   "source": [
    "# Creating a deque instance\n",
    "stack = deque()\n",
    "\n",
    "stack.append('1')\n",
    "stack.append('2')\n",
    "stack.append('3')\n",
    "stack.append('sam')\n",
    "\n",
    "stack"
   ]
  },
  {
   "cell_type": "code",
   "execution_count": 13,
   "metadata": {},
   "outputs": [
    {
     "data": {
      "text/plain": [
       "'sam'"
      ]
     },
     "execution_count": 13,
     "metadata": {},
     "output_type": "execute_result"
    }
   ],
   "source": [
    "rem = stack.pop()\n",
    "rem"
   ]
  },
  {
   "cell_type": "code",
   "execution_count": 14,
   "metadata": {},
   "outputs": [
    {
     "data": {
      "text/plain": [
       "deque(['1', '2'])"
      ]
     },
     "execution_count": 14,
     "metadata": {},
     "output_type": "execute_result"
    }
   ],
   "source": [
    "stack"
   ]
  },
  {
   "cell_type": "markdown",
   "metadata": {},
   "source": [
    "### 3. Using a queue\n",
    "\n",
    "- Provides FIFO (First In First Out) behavior\n",
    "\n",
    "- Functionality\n",
    "    \n",
    "    - get(): It is used to remove the element from a queue\n",
    "    \n",
    "    - put(): It is used to add an element to a queue\n",
    "    \n",
    "    - qsize(): It is used to get the number of elements in a queue\n",
    "    \n",
    "    - empty(): It is used to check whether the queue is empty or not\n",
    "    \n",
    "    - full(): It is used to check whether the queue is full or not\n",
    "    \n",
    "    - clear(): It is used to remove all elements from the queue"
   ]
  },
  {
   "cell_type": "code",
   "execution_count": 10,
   "metadata": {},
   "outputs": [],
   "source": [
    "from queue import LifoQueue"
   ]
  },
  {
   "cell_type": "code",
   "execution_count": 11,
   "metadata": {},
   "outputs": [
    {
     "name": "stdout",
     "output_type": "stream",
     "text": [
      "Size of stack 4\n"
     ]
    }
   ],
   "source": [
    "stack = LifoQueue()\n",
    "\n",
    "stack.put('1')\n",
    "stack.put('2')\n",
    "stack.put('3')\n",
    "stack.put('sam')\n",
    "\n",
    "print(f'Size of stack {stack.qsize()}')"
   ]
  },
  {
   "cell_type": "code",
   "execution_count": 12,
   "metadata": {},
   "outputs": [
    {
     "data": {
      "text/plain": [
       "'sam'"
      ]
     },
     "execution_count": 12,
     "metadata": {},
     "output_type": "execute_result"
    }
   ],
   "source": [
    "rem = stack.get()\n",
    "rem"
   ]
  },
  {
   "cell_type": "code",
   "execution_count": 13,
   "metadata": {},
   "outputs": [
    {
     "name": "stdout",
     "output_type": "stream",
     "text": [
      "Is the stack full: True\n"
     ]
    }
   ],
   "source": [
    "stack2 = LifoQueue(maxsize=4)\n",
    "\n",
    "stack2.put('1')\n",
    "stack2.put('2')\n",
    "stack2.put('3')\n",
    "stack2.put('sam')\n",
    "\n",
    "print(f'Is the stack full: {stack2.full()}')"
   ]
  },
  {
   "cell_type": "code",
   "execution_count": 15,
   "metadata": {},
   "outputs": [
    {
     "name": "stdout",
     "output_type": "stream",
     "text": [
      "Is the stack empty: False\n",
      "Stack size: 4\n"
     ]
    }
   ],
   "source": [
    "print(f'Is the stack empty: {stack2.empty()}')\n",
    "print(f'Stack size: {stack2.qsize()}')"
   ]
  },
  {
   "cell_type": "code",
   "execution_count": null,
   "metadata": {},
   "outputs": [],
   "source": []
  }
 ],
 "metadata": {
  "kernelspec": {
   "display_name": "allenv",
   "language": "python",
   "name": "python3"
  },
  "language_info": {
   "codemirror_mode": {
    "name": "ipython",
    "version": 3
   },
   "file_extension": ".py",
   "mimetype": "text/x-python",
   "name": "python",
   "nbconvert_exporter": "python",
   "pygments_lexer": "ipython3",
   "version": "3.12.3"
  }
 },
 "nbformat": 4,
 "nbformat_minor": 2
}
