{
 "cells": [
  {
   "cell_type": "markdown",
   "metadata": {},
   "source": [
    "## Search"
   ]
  },
  {
   "cell_type": "markdown",
   "metadata": {},
   "source": [
    "- Search problems involve an **agent** that is given an **initial state** and a **goal state**, \n",
    "    \n",
    "    - and it returns a solution of how to get from the former to the latter. \n",
    "\n",
    "- Like \n",
    "\n",
    "    - Maze\n",
    "    - Puzzle\n",
    "    - Navigation applications"
   ]
  },
  {
   "cell_type": "markdown",
   "metadata": {},
   "source": [
    "## Terms"
   ]
  },
  {
   "cell_type": "markdown",
   "metadata": {},
   "source": [
    "**Agent**\n",
    "\n",
    "- An entity that perceives its environment and acts upon that environment. \n",
    "\n",
    "- In a navigator app, for example, \n",
    "\n",
    "    - the **agent would be a representation of a car** that needs to decide on which actions to take to arrive at the destination."
   ]
  },
  {
   "cell_type": "markdown",
   "metadata": {},
   "source": [
    "**State**\n",
    "\n",
    "- A configuration of an agent in its environment. \n",
    "\n",
    "- For example, in a 15 puzzle, **a state is any one way that all the numbers are arranged** on the board.\n"
   ]
  },
  {
   "cell_type": "markdown",
   "metadata": {},
   "source": [
    "**Initial State**\n",
    "\n",
    "- The state from which the search algorithm starts. \n",
    "\n",
    "- In a navigator app, that would be the **current location.**"
   ]
  },
  {
   "cell_type": "markdown",
   "metadata": {},
   "source": [
    "**Actions**\n",
    "\n",
    "- Choices that can be made in a state. \n",
    "\n",
    "- More precisely, actions can be defined as a function.  Upon receiving state s as input, \n",
    "\n",
    "    - Actions(s) returns as output the set of actions that can be executed in state s. \n",
    "\n",
    "- For example, in a 15 puzzle, the **actions of a given state are the ways you can slide squares** \n",
    "    \n",
    "    - in the current configuration (4 if the empty square is in the middle, 3 if next to a side, 2 if in the corner)."
   ]
  },
  {
   "cell_type": "markdown",
   "metadata": {},
   "source": [
    "**Transition Model**\n",
    "\n",
    "- A description of what state results from performing any applicable action in any state. \n",
    "\n",
    "- Upon receiving **state s and action a as input, Results(s, a) returns the state resulting** from performing action a in state s. \n",
    "\n",
    "- For example, given a certain configuration of a 15 puzzle (state s), moving a square in any direction (action a) will bring to a new configuration of the puzzle (the new state)."
   ]
  },
  {
   "cell_type": "markdown",
   "metadata": {},
   "source": [
    "**State Space**\n",
    "\n",
    "- The **set of all states reachable** from the initial state by any sequence of actions. \n",
    "\n",
    "- For example, in a 15 puzzle, the state space consists of all the 16!/2 configurations on the board that can be reached from any initial state. \n",
    "\n",
    "- The state space can be visualized as a directed graph with states, represented as nodes, and actions, represented as arrows between nodes."
   ]
  },
  {
   "cell_type": "markdown",
   "metadata": {},
   "source": [
    "**Goal Test**\n",
    "\n",
    "- The **condition that determines whether a given state** is a goal state. \n",
    "\n",
    "- For example, in a navigator app, the goal test would be whether the current location of the agent (the representation of the car) is at the destination. \n",
    "\n",
    "- If it is — problem solved. If it’s not — we continue searching."
   ]
  },
  {
   "cell_type": "markdown",
   "metadata": {},
   "source": [
    "**Path Cost**\n",
    "\n",
    "- A **numerical cost** associated with a given path. \n",
    "\n",
    "- For example, a navigator app does not simply bring you to your goal; \n",
    "\n",
    "    - it does so while minimizing the path cost, finding the fastest way possible for you to get to your goal state."
   ]
  },
  {
   "cell_type": "markdown",
   "metadata": {},
   "source": [
    "**Solution**\n",
    "\n",
    "- A sequence of actions that leads from the initial state to the goal state.\n",
    "\n",
    "**Optimal Solution**\n",
    "\n",
    "- A solution that has the lowest path cost among all solutions."
   ]
  },
  {
   "cell_type": "markdown",
   "metadata": {},
   "source": [
    "## Solving a search problem"
   ]
  },
  {
   "cell_type": "markdown",
   "metadata": {},
   "source": [
    "### Search Problem\n",
    "\n",
    "- A search problem consists of \n",
    "    \n",
    "    - an initial state, \n",
    "    \n",
    "    - a goal state, \n",
    "    \n",
    "    - a transition model, \n",
    "    \n",
    "    - an action model, \n",
    "    \n",
    "    - path cost function, \n",
    "    \n",
    "    - and a goal test. \n",
    "\n",
    "- The goal is to find an optimal solution, meaning a solution with the lowest path cost. \n"
   ]
  },
  {
   "cell_type": "markdown",
   "metadata": {},
   "source": [
    "### Node \n",
    "\n",
    "- In a search process, **data is often stored in a node**, a data structure that contains the following data:\n",
    "\n",
    "    - A state\n",
    "    \n",
    "    - Its parent node, through which the current node was generated\n",
    "    \n",
    "    - The action that was applied to the state of the parent to get to the current node\n",
    "    \n",
    "    - The path cost from the initial state to this node\n",
    "\n",
    "- Nodes contain information that makes them very useful for the purposes of search algorithms. \n",
    "\n",
    "    - They contain a state, which can be checked using the goal test to see if it is the final state. \n",
    "    \n",
    "    - If it is, the node’s path cost can be compared to other nodes’ path costs, which allows choosing the optimal solution. \n",
    "\n",
    "- Once the node is chosen, by virtue of storing the parent node and the action that led from the parent to the current node, \n",
    "    \n",
    "    - it is possible to trace back every step of the way from the initial state to this node, and this sequence of actions is the solution.\n",
    "\n",
    "**- However, nodes are simply a data structure — they don’t search, they hold information.**"
   ]
  },
  {
   "cell_type": "markdown",
   "metadata": {},
   "source": [
    "### Frontier\n",
    "\n",
    "- To actually search, we use the frontier, **the mechanism that “manages” the nodes**. \n",
    "\n",
    "- The frontier starts by containing an initial state and an empty set of explored items, \n",
    "\n",
    "    - and then repeats the following actions until a solution is reached:\n",
    "\n",
    "    `Repeat:`\n",
    "\n",
    "    `If the frontier is empty,`\n",
    "\n",
    "    `Stop. There is no solution to the problem.`\n",
    "    `Remove a node from the frontier. This is the node that will be considered.`\n",
    "\n",
    "    `If the node contains the goal state,`\n",
    "\n",
    "    `Return the solution. Stop.`\n",
    "    `Else,`\n",
    "\n",
    "    `Expand the node (find all the new nodes that could be reached from this node), and add resulting nodes to the frontier.`\n",
    "    `Add the current node to the explored set.`\n"
   ]
  },
  {
   "cell_type": "markdown",
   "metadata": {},
   "source": [
    "## Uninformed searching\n",
    "\n",
    "- That is, these algorithms do not utilize any knowledge about the problem that they did not acquire through their own exploration.\n",
    "\n",
    "- How to access the node in the frontier\n",
    "\n",
    "- The way a node should be removed has implications on the quality of the solution and how fast it is achieved. \n",
    "\n",
    "- There are multiple ways to go about the question of which nodes should be considered first, \n",
    "\n",
    "    - two of which can be represented by the data structures of \n",
    "    \n",
    "        - stack (in depth-first search) and \n",
    "         \n",
    "        - queue (in breadth-first search).\n"
   ]
  },
  {
   "cell_type": "markdown",
   "metadata": {},
   "source": [
    "### Depth-first search\n",
    "\n",
    "- A depth-first search algorithm exhausts each one direction before trying another direction. \n",
    "\n",
    "- In these cases, the frontier is managed as a stack data structure. \n",
    "\n",
    "- The catchphrase you need to remember here is “last-in first-out.” \n",
    "\n",
    "- After nodes are being added to the frontier, the first node to remove and consider is the last one to be added. \n",
    "\n",
    "- This results in a search algorithm that goes as deep as possible in the first direction that gets in its way while leaving all other directions for later.\n",
    "\n",
    "`(An example from outside lecture: Take a situation where you are looking for your keys. In a depth-first search approach, if you choose to start with searching in your pants, you’d first go through every single pocket, emptying each pocket and going through the contents carefully. You will stop searching in your pants and start searching elsewhere only once you will have completely exhausted the search in every single pocket of your pants.)`\n",
    "\n",
    "\n",
    "**Pros:**\n",
    "\n",
    "- At best, this algorithm is the fastest. If it “lucks out” and always chooses the right path to the solution (by chance), then depth-first search takes the least possible time to get to a solution.\n",
    "\n",
    "**Cons:**\n",
    "\n",
    "- It is possible that the found solution is not optimal.\n",
    "\n",
    "- At worst, this algorithm will explore every possible path before finding the solution, thus taking the longest possible time before reaching the \n",
    "solution.\n",
    "\n"
   ]
  },
  {
   "cell_type": "code",
   "execution_count": null,
   "metadata": {},
   "outputs": [],
   "source": [
    "# Define the function that removes a node from the frontier and returns it.\n",
    "def remove(self):\n",
    "        # Terminate the search if the frontier is empty, because this means that there is no solution.\n",
    "    if self.empty():\n",
    "        raise Exception(\"empty frontier\")\n",
    "    else:\n",
    "            # Save the last item in the list (which is the newest node added)\n",
    "        node = self.frontier[-1]\n",
    "        # Save all the items on the list besides the last node (i.e. removing the last node)\n",
    "        self.frontier = self.frontier[:-1]\n",
    "        return node"
   ]
  },
  {
   "cell_type": "markdown",
   "metadata": {},
   "source": [
    "### Breadth-first search\n",
    "\n",
    "- A breadth-first search algorithm will follow multiple directions at the same time, \n",
    "    \n",
    "    - taking one step in each possible direction before taking the second step in each direction. \n",
    "\n",
    "- In this case, the frontier is managed as a queue data structure. \n",
    "\n",
    "- The catchphrase you need to remember here is “first-in first-out.” \n",
    "\n",
    "- In this case, all the new nodes add up in line, and nodes are being considered based on which one was added first (first come first served!). \n",
    "\n",
    "- This results in a search algorithm that takes one step in each possible direction before taking a second step in any one direction.\n",
    "\n",
    "\n",
    "`(An example from outside lecture: suppose you are in a situation where you are looking for your keys. In this case, if you start with your pants, you will look in your right pocket. After this, instead of looking at your left pocket, you will take a look in one drawer. Then on the table. And so on, in every location you can think of. Only after you will have exhausted all the locations will you go back to your pants and search in the next pocket.)`\n",
    "\n",
    "**Pros:**\n",
    "\n",
    "- This algorithm is guaranteed to find the optimal solution.\n",
    "\n",
    "**Cons:**\n",
    "\n",
    "- This algorithm is almost guaranteed to take longer than the minimal time to run.\n",
    "\n",
    "- At worst, this algorithm takes the longest possible time to run."
   ]
  },
  {
   "cell_type": "code",
   "execution_count": null,
   "metadata": {},
   "outputs": [],
   "source": [
    "# Define the function that removes a node from the frontier and returns it.\n",
    "def remove(self):\n",
    "        # Terminate the search if the frontier is empty, because this means that there is no solution.\n",
    "    if self.empty():\n",
    "        raise Exception(\"empty frontier\")\n",
    "    else:\n",
    "        # Save the oldest item on the list (which was the first one to be added)\n",
    "        node = self.frontier[0]\n",
    "        # Save all the items on the list besides the first one (i.e. removing the first node)\n",
    "        self.frontier = self.frontier[1:]\n",
    "        return node"
   ]
  },
  {
   "cell_type": "markdown",
   "metadata": {},
   "source": [
    "## Informed search\n",
    "\n",
    "- A type of algorithm that considers additional knowledge to try to improve its performance is called an informed search algorithm."
   ]
  },
  {
   "cell_type": "markdown",
   "metadata": {},
   "source": [
    "### Greedy best-first search \n",
    "\n",
    "- Expands the node that is the closest to the goal, as determined by a **heuristic function h(n)**. \n",
    "\n",
    "- As its name suggests, the function estimates how close to the goal the next node is, but it can be mistaken. \n",
    "\n",
    "- The efficiency of the greedy best-first algorithm depends on how good the heuristic function is. \n",
    "\n",
    "`For example, in a maze, an algorithm can use a heuristic function that relies on the Manhattan distance between the possible nodes and the end of the maze. The Manhattan distance ignores walls and counts how many steps up, down, or to the sides it would take to get from one location to the goal location. This is an easy estimation that can be derived based on the (x, y) coordinates of the current location and the goal location.`\n",
    "\n",
    "**Manhattan Distance**\n",
    "\n",
    "- However, it is important to emphasize that, as with any heuristic, it can go wrong and lead the algorithm down a slower path than it would have gone otherwise. \n",
    "\n",
    "- It is possible that an uninformed search algorithm will provide a better solution faster, but it is less likely to do so than an informed algorithm."
   ]
  },
  {
   "cell_type": "markdown",
   "metadata": {},
   "source": [
    "### A* Search\n",
    "\n",
    "- A development of the greedy best-first algorithm, A* search considers not only h(n), the estimated cost from the current location to the goal, \n",
    "\n",
    "    - but also g(n), the cost that was accrued until the current location. \n",
    "\n",
    "- By combining both these values, the algorithm has a more accurate way of determining the cost of the solution and optimizing its choices on the go. \n",
    "\n",
    "- The algorithm keeps track of (cost of path until now + estimated cost to the goal), and once it exceeds the estimated cost of some previous option,\n",
    "     \n",
    "     - the algorithm will ditch the current path and go back to the previous option, \n",
    "     \n",
    "     - thus preventing itself from going down a long, inefficient path that h(n) erroneously marked as best.\n",
    "\n",
    "- Yet again, since this algorithm, too, relies on a heuristic, it is as good as the heuristic that it employs. \n",
    "\n",
    "- It is possible that in some situations it will be less efficient than greedy best-first search or even the uninformed algorithms. \n",
    "\n",
    "- For A* search to be optimal, the heuristic function, h(n), should be:\n",
    "\n",
    "1. **Admissible**, or never overestimating the true cost, and\n",
    "\n",
    "2. **Consistent**, which means that the estimated path cost to the goal of a new node in addition to the cost of transitioning to it from the previous node is greater or equal to the estimated path cost to the goal of the previous node. \n",
    "\n",
    "    - To put it in an equation form, h(n) is consistent if for every node n and successor node n’ with step cost c, h(n) ≤ h(n’) + c."
   ]
  },
  {
   "cell_type": "markdown",
   "metadata": {},
   "source": [
    "**Adversarial Search**\n",
    "\n",
    "- Adversarial search the algorithm faces an opponent that tries to achieve the opposite goal. \n",
    "\n",
    "- Often, AI that uses adversarial search is encountered in games, such as tic tac toe.\n",
    "\n",
    "**Minimax**\n",
    "\n",
    "- A type of algorithm in adversarial search, Minimax represents winning conditions as (-1) for one side and (+1) for the other side. \n",
    "\n",
    "- Further actions will be driven by these conditions, with the minimizing side trying to get the lowest score, \\\n",
    "    \n",
    "    - and the maximizer trying to get the highest score."
   ]
  },
  {
   "cell_type": "markdown",
   "metadata": {},
   "source": [
    "**Alpha-Beta Pruning**\n",
    "\n",
    "- Alpha-Beta Pruning is a technique used in the Minimax algorithm to improve its performance.\n",
    "\n",
    "- Alpha-Beta Pruning skips some of the recursive computations that are decidedly unfavorable. \n",
    "\n",
    "`After establishing the value of one action, if there is initial evidence that the following action can bring the opponent to get to a better score than the already established action, there is no need to further investigate this action because it will decidedly be less favorable than the previously established one.`"
   ]
  },
  {
   "cell_type": "markdown",
   "metadata": {},
   "source": [
    "**Depth-Limited Minimax**\n",
    "\n",
    "- The minimax algorithm, as presented so far, requires generating all hypothetical games from a certain point to the terminal condition. \n",
    "\n",
    "- While computing all the Tic-Tac-Toe games doesn’t pose a challenge for a modern computer, doing so with chess is currently impossible.\n",
    "\n",
    "- Depth-limited Minimax considers only a pre-defined number of moves before it stops, without ever getting to a terminal state. \n",
    "\n",
    "- However, this doesn’t allow for getting a precise value for each action, since the end of the hypothetical games has not been reached. \n",
    "\n",
    "- To deal with this problem, Depth-limited Minimax relies on an evaluation function that estimates the expected utility of the game from a given state, or, in other words, assigns values to states. \n",
    "\n",
    "`For example, in a chess game, a utility function would take as input a current configuration of the board, try to assess its expected utility (based on what pieces each player has and their locations on the board), and then return a positive or a negative value that represents how favorable the board is for one player versus the other. These values can be used to decide on the right action, and the better the evaluation function, the better the Minimax algorithm that relies on it.`"
   ]
  },
  {
   "cell_type": "markdown",
   "metadata": {},
   "source": []
  }
 ],
 "metadata": {
  "language_info": {
   "name": "python"
  }
 },
 "nbformat": 4,
 "nbformat_minor": 2
}
