{
 "cells": [
  {
   "cell_type": "markdown",
   "metadata": {},
   "source": [
    "## Generators are iterators, \n",
    "\n",
    "- a kind of iterable you can only iterate over once. \n",
    "\n",
    "- Generators do not store all the values in memory, they generate the values on the fly.\n",
    "'''"
   ]
  },
  {
   "cell_type": "code",
   "execution_count": 1,
   "metadata": {},
   "outputs": [
    {
     "name": "stdout",
     "output_type": "stream",
     "text": [
      "Normal function:  [1, 4, 9, 16, 25, 36, 49, 64, 81]\n",
      "\n"
     ]
    }
   ],
   "source": [
    "# normal function\n",
    "def square_numbers(nums):\n",
    "    result = []\n",
    "    for num in nums:\n",
    "        result.append(num * num)\n",
    "    return result\n",
    "\n",
    "\n",
    "# set of numbers\n",
    "nums = [1, 2, 3, 4, 5, 6, 7, 8, 9]\n",
    "\n",
    "\n",
    "# calling the normal function\n",
    "num1 = square_numbers(nums)\n",
    "print('Normal function: ', num1)\n",
    "print()"
   ]
  },
  {
   "cell_type": "code",
   "execution_count": 2,
   "metadata": {},
   "outputs": [],
   "source": [
    "# converting it to a generator\n",
    "def square_numbers_gen(nums):\n",
    "    for num in nums:\n",
    "        yield num * num"
   ]
  },
  {
   "cell_type": "code",
   "execution_count": 3,
   "metadata": {},
   "outputs": [
    {
     "name": "stdout",
     "output_type": "stream",
     "text": [
      "Comprehension Normal function:  [1, 4, 9, 16, 25, 36, 49, 64, 81]\n"
     ]
    }
   ],
   "source": [
    "# Comprehension function\n",
    "num1 = [num * num for num in nums]\n",
    "print('Comprehension Normal function: ', num1)"
   ]
  },
  {
   "cell_type": "code",
   "execution_count": 4,
   "metadata": {},
   "outputs": [
    {
     "name": "stdout",
     "output_type": "stream",
     "text": [
      "Generator function:  1\n",
      "Generator function:  4\n",
      "Generator function:  9\n",
      "Generator function:  16\n",
      "\n"
     ]
    }
   ],
   "source": [
    "# converting a compression function to a generator function\n",
    "num1 = (num * num for num in nums)\n",
    "print('Generator function: ', next(num1))\n",
    "print('Generator function: ', next(num1))\n",
    "print('Generator function: ', next(num1))\n",
    "print('Generator function: ', next(num1))\n",
    "print()"
   ]
  },
  {
   "cell_type": "code",
   "execution_count": 5,
   "metadata": {},
   "outputs": [],
   "source": [
    "# calling generator function\n",
    "num1 = square_numbers_gen(nums)\n",
    "# print('Generator function: ', next(num1))\n",
    "# print('Generator function: ', next(num1))\n",
    "# print('Generator function: ', next(num1))\n",
    "# print('Generator function: ', next(num1))\n",
    "# print('Generator function: ', next(num1))\n",
    "# print('Generator function: ', next(num1))\n",
    "# print('Generator function: ', next(num1))\n",
    "# print('Generator function: ', next(num1))\n",
    "# print('Generator function: ', next(num1))\n"
   ]
  },
  {
   "cell_type": "code",
   "execution_count": 6,
   "metadata": {},
   "outputs": [
    {
     "name": "stdout",
     "output_type": "stream",
     "text": [
      "Generator function:  1\n",
      "Generator function:  4\n",
      "Generator function:  9\n",
      "Generator function:  16\n",
      "Generator function:  25\n",
      "Generator function:  36\n",
      "Generator function:  49\n",
      "Generator function:  64\n",
      "Generator function:  81\n",
      "\n"
     ]
    }
   ],
   "source": [
    "for num in num1:\n",
    "    print('Generator function: ', num)\n",
    "print()\n"
   ]
  }
 ],
 "metadata": {
  "kernelspec": {
   "display_name": "allenv",
   "language": "python",
   "name": "python3"
  },
  "language_info": {
   "codemirror_mode": {
    "name": "ipython",
    "version": 3
   },
   "file_extension": ".py",
   "mimetype": "text/x-python",
   "name": "python",
   "nbconvert_exporter": "python",
   "pygments_lexer": "ipython3",
   "version": "3.12.3"
  }
 },
 "nbformat": 4,
 "nbformat_minor": 2
}
