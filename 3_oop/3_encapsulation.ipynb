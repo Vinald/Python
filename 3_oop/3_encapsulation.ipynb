{
 "cells": [
  {
   "cell_type": "markdown",
   "metadata": {},
   "source": [
    "# private variables\n",
    "\n",
    "- Private variables are those variables that should neither be accessed outside the class nor by any base class."
   ]
  },
  {
   "cell_type": "code",
   "execution_count": 1,
   "metadata": {},
   "outputs": [],
   "source": [
    "\n",
    "class Area:\n",
    "    def __init__(self):\n",
    "        self.__height = 0 # Private variable\n",
    "        self.__width = 0 # Private variable\n",
    "        self.__area = 0  # Private variable\n",
    "    \n",
    "    def set_height(self, height):\n",
    "        self.__height = height\n",
    "    \n",
    "    def set_width(self, width):\n",
    "        self.__width = width\n",
    "    \n",
    "    def get_area(self):\n",
    "        self.__area = self.__height * self.__width\n",
    "        return self.__area\n",
    "    \n",
    "    def __repr__(self):\n",
    "        return f\"Height: {self.__height}, Width: {self.__width}, Area: {self.__area}\"\n"
   ]
  },
  {
   "cell_type": "code",
   "execution_count": 2,
   "metadata": {},
   "outputs": [],
   "source": [
    "a = Area()\n",
    "a.set_height(5)\n",
    "a.set_width(6)"
   ]
  },
  {
   "cell_type": "code",
   "execution_count": 3,
   "metadata": {},
   "outputs": [
    {
     "name": "stdout",
     "output_type": "stream",
     "text": [
      "30\n",
      "Height: 5, Width: 6, Area: 30\n"
     ]
    }
   ],
   "source": [
    "print(a.get_area())\n",
    "print(a)"
   ]
  },
  {
   "cell_type": "code",
   "execution_count": 5,
   "metadata": {},
   "outputs": [],
   "source": [
    "class Area:\n",
    "    def __init__(self):\n",
    "        self.__height = 0\n",
    "        self.__width = 0\n",
    "        self.__area = 0\n",
    "    \n",
    "    def __calculate_area(self):\n",
    "        self.__area = self.__height * self.__width\n",
    "    \n",
    "    def set_height(self, height):\n",
    "        self.__height = height\n",
    "    \n",
    "    def set_width(self, width):\n",
    "        self.__width = width\n",
    "    \n",
    "    def get_area(self):\n",
    "        self.__calculate_area()\n",
    "        return self.__area\n",
    "    \n",
    "    def __repr__(self):\n",
    "        return f\"Height: {self.__height}, Width: {self.__width}, Area: {self.__area}\""
   ]
  },
  {
   "cell_type": "code",
   "execution_count": 6,
   "metadata": {},
   "outputs": [],
   "source": [
    "a = Area()\n",
    "a.set_height(5)\n",
    "a.set_width(6)"
   ]
  },
  {
   "cell_type": "code",
   "execution_count": 7,
   "metadata": {},
   "outputs": [
    {
     "name": "stdout",
     "output_type": "stream",
     "text": [
      "30\n",
      "Height: 5, Width: 6, Area: 30\n"
     ]
    }
   ],
   "source": [
    "print(a.get_area())\n",
    "print(a)"
   ]
  },
  {
   "cell_type": "code",
   "execution_count": null,
   "metadata": {},
   "outputs": [],
   "source": []
  }
 ],
 "metadata": {
  "kernelspec": {
   "display_name": "allenv",
   "language": "python",
   "name": "python3"
  },
  "language_info": {
   "codemirror_mode": {
    "name": "ipython",
    "version": 3
   },
   "file_extension": ".py",
   "mimetype": "text/x-python",
   "name": "python",
   "nbconvert_exporter": "python",
   "pygments_lexer": "ipython3",
   "version": "3.12.3"
  }
 },
 "nbformat": 4,
 "nbformat_minor": 2
}
