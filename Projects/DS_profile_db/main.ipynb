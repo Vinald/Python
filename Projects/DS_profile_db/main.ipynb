{
  "cells": [
    {
      "cell_type": "markdown",
      "id": "governmental-worry",
      "metadata": {
        "id": "governmental-worry"
      },
      "source": [
        "## Problem\n",
        "\n",
        "\n",
        "\n",
        "- As a senior backend engineer at Jovian, you are tasked with developing a fast in-memory data structure to manage profile information (username, name and email) for 100 million users.\n",
        "\n",
        "-  It should allow the following operations to be performed efficiently:\n",
        "\n",
        "\n",
        "> 1. **Insert** the profile information for a new user.\n",
        "\n",
        "> 2. **Find** the profile information of a user, given their username\n",
        "\n",
        "> 3. **Update** the profile information of a user, given their usrname\n",
        "\n",
        "> 5. **List** all the users of the platform, sorted by username\n",
        "\n",
        "> You can assume that usernames are unique.\n"
      ]
    },
    {
      "cell_type": "markdown",
      "id": "primary-adjustment",
      "metadata": {
        "id": "primary-adjustment"
      },
      "source": [
        "## The Method\n",
        "\n",
        "1. State the problem clearly. Identify the input & output formats.\n",
        "\n",
        "2. Come up with some example inputs & outputs. Try to cover all edge cases.\n",
        "\n",
        "3. Come up with a correct solution for the problem. State it in plain English.\n",
        "\n",
        "4. Implement the solution and test it using example inputs. Fix bugs, if any.\n",
        "\n",
        "5. Analyze the algorithm's complexity and identify inefficiencies, if any.\n",
        "\n",
        "6. Apply the right technique to overcome the inefficiency. Repeat steps 3 to 6."
      ]
    },
    {
      "cell_type": "markdown",
      "id": "three-register",
      "metadata": {
        "id": "three-register"
      },
      "source": [
        "## 1. State the problem clearly. Identify the input & output formats.\n",
        "\n",
        "#### Problem\n",
        "\n",
        "> We need to create a data structure which can store 100 million records and perform insertion, search, update and list operations efficiently.\n",
        "\n",
        "#### Input\n",
        "\n",
        "- user profiles\n",
        "    \n",
        "    - the username, \n",
        "    \n",
        "    - name and \n",
        "    \n",
        "    - email of a user.\n",
        "\n",
        "A Python _class_ would be a great way to represent the information for a user."
      ]
    },
    {
      "cell_type": "code",
      "execution_count": 1,
      "id": "exempt-financing",
      "metadata": {
        "id": "exempt-financing"
      },
      "outputs": [
        {
          "name": "stdout",
          "output_type": "stream",
          "text": [
            "User created!\n"
          ]
        },
        {
          "data": {
            "text/plain": [
              "<__main__.User at 0x78846411cec0>"
            ]
          },
          "execution_count": 1,
          "metadata": {},
          "output_type": "execute_result"
        }
      ],
      "source": [
        "class User:\n",
        "    def __init__(self, username, name, email):\n",
        "        self.username = username\n",
        "        self.name = name\n",
        "        self.email = email\n",
        "        print('User created!')\n",
        "        \n",
        "user2 = User('john', 'John Doe', 'john@doe.com')\n",
        "user2"
      ]
    },
    {
      "cell_type": "markdown",
      "id": "injured-sheffield",
      "metadata": {
        "id": "injured-sheffield"
      },
      "source": [
        "We can access the properties of the object using the `.` notation."
      ]
    },
    {
      "cell_type": "code",
      "execution_count": 2,
      "id": "blessed-albert",
      "metadata": {
        "id": "blessed-albert",
        "outputId": "bf40cd9a-0868-475b-f292-4d59e8525f09"
      },
      "outputs": [
        {
          "data": {
            "text/plain": [
              "'John Doe'"
            ]
          },
          "execution_count": 2,
          "metadata": {},
          "output_type": "execute_result"
        }
      ],
      "source": [
        "user2.name"
      ]
    },
    {
      "cell_type": "code",
      "execution_count": 3,
      "id": "strategic-mixture",
      "metadata": {
        "id": "strategic-mixture",
        "outputId": "ed6f8cd6-22ca-4efe-f5fa-be4a21fb7df1"
      },
      "outputs": [
        {
          "data": {
            "text/plain": [
              "('john@doe.com', 'john')"
            ]
          },
          "execution_count": 3,
          "metadata": {},
          "output_type": "execute_result"
        }
      ],
      "source": [
        "user2.email, user2.username"
      ]
    },
    {
      "cell_type": "markdown",
      "id": "international-arrow",
      "metadata": {
        "id": "international-arrow"
      },
      "source": [
        "You can also define custom methods inside a class."
      ]
    },
    {
      "cell_type": "code",
      "execution_count": 4,
      "id": "trying-listening",
      "metadata": {
        "id": "trying-listening"
      },
      "outputs": [
        {
          "name": "stdout",
          "output_type": "stream",
          "text": [
            "Hi David, I'm Jane Doe! Contact me at jane@doe.com .\n"
          ]
        }
      ],
      "source": [
        "class User:\n",
        "    def __init__(self, username, name, email):\n",
        "        self.username = username\n",
        "        self.name = name\n",
        "        self.email = email\n",
        "\n",
        "    def introduce_yourself(self, guest_name):\n",
        "        print(f\"Hi {guest_name}, I'm {self.name}! Contact me at {self.email} .\")\n",
        "\n",
        "user3 = User('jane', 'Jane Doe', 'jane@doe.com')\n",
        "user3.introduce_yourself('David')"
      ]
    },
    {
      "cell_type": "code",
      "execution_count": 5,
      "id": "regular-equivalent",
      "metadata": {
        "id": "regular-equivalent"
      },
      "outputs": [
        {
          "data": {
            "text/plain": [
              "User (username='jane', name='Jane Doe', email='jane@doe.com')"
            ]
          },
          "execution_count": 5,
          "metadata": {},
          "output_type": "execute_result"
        }
      ],
      "source": [
        "class User:\n",
        "    def __init__(self, username, name, email):\n",
        "        self.username = username\n",
        "        self.name = name\n",
        "        self.email = email\n",
        "\n",
        "    def __repr__(self):\n",
        "        return f\"User (username='{self.username}', name='{self.name}', email='{self.email}')\"\n",
        "\n",
        "    def __str__(self):\n",
        "        return self.__repr__()\n",
        "\n",
        "\n",
        "user4 = User('jane', 'Jane Doe', 'jane@doe.com')\n",
        "user4"
      ]
    },
    {
      "cell_type": "markdown",
      "id": "laden-tiger",
      "metadata": {
        "id": "laden-tiger"
      },
      "source": [
        "## 2. Come up with some example inputs & outputs."
      ]
    },
    {
      "cell_type": "code",
      "execution_count": 6,
      "id": "appointed-guatemala",
      "metadata": {
        "id": "appointed-guatemala"
      },
      "outputs": [],
      "source": [
        "peter = User('peter', 'peter', 'peter@example.com')\n",
        "joseph = User('joseph', 'joseph', 'joseph@example.com')\n",
        "simon = User('simon', 'peter', 'simon@example.com')\n",
        "marion = User('marion', 'william', 'marion@example.com')\n",
        "joy = User('joy', 'gloria', 'joy@example.com')\n",
        "samuel = User('samuel', 'sam', 'samuel@example.com')\n",
        "stephen = User('stephen', 's', 'stephen@example.com')\n",
        "\n",
        "users = [peter, joseph, simon, marion, joy, samuel, stephen]"
      ]
    },
    {
      "cell_type": "markdown",
      "id": "introductory-prison",
      "metadata": {
        "id": "introductory-prison"
      },
      "source": [
        "We can access different fields within a user profile object using the `.` (dot) notation."
      ]
    },
    {
      "cell_type": "code",
      "execution_count": 7,
      "id": "extreme-judge",
      "metadata": {
        "id": "extreme-judge",
        "outputId": "3a4d5e2f-9ad0-47ba-ec54-20c1c2406405"
      },
      "outputs": [
        {
          "data": {
            "text/plain": [
              "('samuel', 'samuel@example.com', 'sam')"
            ]
          },
          "execution_count": 7,
          "metadata": {},
          "output_type": "execute_result"
        }
      ],
      "source": [
        "samuel.username, samuel.email, samuel.name"
      ]
    },
    {
      "cell_type": "markdown",
      "id": "reserved-transition",
      "metadata": {
        "id": "reserved-transition"
      },
      "source": [
        "We can also view a string representation of the object, since defined the `__repr__` and `__str__` methods"
      ]
    },
    {
      "cell_type": "code",
      "execution_count": 8,
      "id": "conceptual-clearing",
      "metadata": {
        "id": "conceptual-clearing",
        "outputId": "89235c1f-d69d-4102-fe47-21b5971b3d97",
        "scrolled": true
      },
      "outputs": [
        {
          "name": "stdout",
          "output_type": "stream",
          "text": [
            "User (username='samuel', name='sam', email='samuel@example.com')\n"
          ]
        }
      ],
      "source": [
        "print(samuel)"
      ]
    },
    {
      "cell_type": "code",
      "execution_count": 9,
      "id": "funky-start",
      "metadata": {
        "id": "funky-start",
        "outputId": "04d95759-5ea4-41d8-cdd5-e3b5e7c1c166"
      },
      "outputs": [
        {
          "data": {
            "text/plain": [
              "[User (username='peter', name='peter', email='peter@example.com'),\n",
              " User (username='joseph', name='joseph', email='joseph@example.com'),\n",
              " User (username='simon', name='peter', email='simon@example.com'),\n",
              " User (username='marion', name='william', email='marion@example.com'),\n",
              " User (username='joy', name='gloria', email='joy@example.com'),\n",
              " User (username='samuel', name='sam', email='samuel@example.com'),\n",
              " User (username='stephen', name='s', email='stephen@example.com')]"
            ]
          },
          "execution_count": 9,
          "metadata": {},
          "output_type": "execute_result"
        }
      ],
      "source": [
        "users"
      ]
    },
    {
      "cell_type": "markdown",
      "id": "nuclear-infrared",
      "metadata": {
        "id": "nuclear-infrared"
      },
      "source": [
        "## 3. Come up with a correct solution. State it in plain English.\n",
        "\n",
        "we store the `User` objects in a list sorted by usernames.\n",
        "\n",
        "The various functions can be implemented as follows:\n",
        "\n",
        "\n",
        "1. **Insert**: Loop through the list and add the new user at a position that keeps the list sorted.\n",
        "\n",
        "2. **Find**: Loop through the list and find the user object with the username matching the query.\n",
        "\n",
        "3. **Update**: Loop through the list, find the user object matching the query and update the details\n",
        "\n",
        "4. **List**: Return the list of user objects.\n",
        "\n",
        "We can use the fact usernames, which are are strings can be compared using the `<`, `>` and `==` operators in Python."
      ]
    },
    {
      "cell_type": "code",
      "execution_count": 10,
      "id": "fifth-polymer",
      "metadata": {
        "id": "fifth-polymer",
        "outputId": "8d6e65ef-4120-414a-af78-7ffbfdbff373"
      },
      "outputs": [
        {
          "data": {
            "text/plain": [
              "True"
            ]
          },
          "execution_count": 10,
          "metadata": {},
          "output_type": "execute_result"
        }
      ],
      "source": [
        "'biraj' < 'hemanth'"
      ]
    },
    {
      "cell_type": "markdown",
      "id": "computational-affairs",
      "metadata": {
        "id": "computational-affairs"
      },
      "source": [
        "## 4. Implement the solution and test it using example inputs.\n",
        "\n",
        "The code for implementing the above solution is also fairly straightfoward."
      ]
    },
    {
      "cell_type": "code",
      "execution_count": 11,
      "id": "detailed-technician",
      "metadata": {
        "id": "detailed-technician"
      },
      "outputs": [],
      "source": [
        "class UserDatabase:\n",
        "    def __init__(self):\n",
        "        self.users = []\n",
        "\n",
        "    def insert(self, user):\n",
        "        i = 0\n",
        "        while i < len(self.users):\n",
        "            # Find the first username greater than the new user's username\n",
        "            if self.users[i].username > user.username:\n",
        "                break\n",
        "            i += 1\n",
        "        self.users.insert(i, user)\n",
        "\n",
        "    def find(self, username):\n",
        "        for user in self.users:\n",
        "            if user.username == username:\n",
        "                return user\n",
        "\n",
        "    def update(self, user):\n",
        "        target = self.find(user.username)\n",
        "        target.name, target.email = user.name, user.email\n",
        "\n",
        "    def list_all(self):\n",
        "        return self.users"
      ]
    },
    {
      "cell_type": "markdown",
      "id": "rational-retrieval",
      "metadata": {
        "id": "rational-retrieval"
      },
      "source": [
        "We can create a new database of users by _instantiating_ and object of the `UserDatabase` class."
      ]
    },
    {
      "cell_type": "code",
      "execution_count": 12,
      "id": "useful-sperm",
      "metadata": {
        "id": "useful-sperm"
      },
      "outputs": [
        {
          "data": {
            "text/plain": [
              "User (username='joy', name='gloria', email='joy@example.com')"
            ]
          },
          "execution_count": 12,
          "metadata": {},
          "output_type": "execute_result"
        }
      ],
      "source": [
        "database = UserDatabase()\n",
        "\n",
        "database.insert(samuel)\n",
        "database.insert(joy)\n",
        "database.insert(stephen)\n",
        "\n",
        "user = database.find('joy')\n",
        "user"
      ]
    },
    {
      "cell_type": "markdown",
      "id": "lesbian-location",
      "metadata": {
        "id": "lesbian-location"
      },
      "source": [
        "Let's try changing the information for a user"
      ]
    },
    {
      "cell_type": "code",
      "execution_count": 13,
      "id": "wanted-colonial",
      "metadata": {
        "id": "wanted-colonial"
      },
      "outputs": [],
      "source": [
        "database.update(User(username='joy', name='mj', email='mj@example.com'))\n",
        "\n",
        "user = database.find('mj')\n",
        "user"
      ]
    },
    {
      "cell_type": "code",
      "execution_count": 14,
      "id": "approved-square",
      "metadata": {
        "id": "approved-square",
        "outputId": "e4c150e4-013e-413a-d4e7-50d99361cf98"
      },
      "outputs": [
        {
          "data": {
            "text/plain": [
              "[User (username='joy', name='mj', email='mj@example.com'),\n",
              " User (username='samuel', name='sam', email='samuel@example.com'),\n",
              " User (username='stephen', name='s', email='stephen@example.com')]"
            ]
          },
          "execution_count": 14,
          "metadata": {},
          "output_type": "execute_result"
        }
      ],
      "source": [
        "database.list_all()"
      ]
    },
    {
      "cell_type": "markdown",
      "id": "together-basketball",
      "metadata": {
        "id": "together-basketball"
      },
      "source": [
        "Let's verify that a new user is inserted into the correct position."
      ]
    },
    {
      "cell_type": "code",
      "execution_count": 15,
      "id": "advised-hungarian",
      "metadata": {
        "id": "advised-hungarian"
      },
      "outputs": [
        {
          "data": {
            "text/plain": [
              "[User (username='joy', name='mj', email='mj@example.com'),\n",
              " User (username='samuel', name='sam', email='samuel@example.com'),\n",
              " User (username='simon', name='peter', email='simon@example.com'),\n",
              " User (username='stephen', name='s', email='stephen@example.com')]"
            ]
          },
          "execution_count": 15,
          "metadata": {},
          "output_type": "execute_result"
        }
      ],
      "source": [
        "database.insert(simon)\n",
        "database.list_all()"
      ]
    },
    {
      "cell_type": "markdown",
      "id": "dangerous-venezuela",
      "metadata": {
        "id": "dangerous-venezuela"
      },
      "source": [
        "## 5. Analyze the algorithm's complexity and identify inefficiencies\n",
        "\n",
        "1. Insert: **O(N)**\n",
        "\n",
        "2. Find: **O(N)**\n",
        "\n",
        "3. Update: **O(N)**\n",
        "\n",
        "4. List: **O(1)**"
      ]
    }
  ],
  "metadata": {
    "colab": {
      "provenance": []
    },
    "kernelspec": {
      "display_name": "Python 3",
      "language": "python",
      "name": "python3"
    },
    "language_info": {
      "codemirror_mode": {
        "name": "ipython",
        "version": 3
      },
      "file_extension": ".py",
      "mimetype": "text/x-python",
      "name": "python",
      "nbconvert_exporter": "python",
      "pygments_lexer": "ipython3",
      "version": "3.12.3"
    }
  },
  "nbformat": 4,
  "nbformat_minor": 5
}
