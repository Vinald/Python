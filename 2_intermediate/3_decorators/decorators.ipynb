{
 "cells": [
  {
   "cell_type": "markdown",
   "metadata": {},
   "source": [
    "## Decorators"
   ]
  },
  {
   "cell_type": "code",
   "execution_count": 1,
   "metadata": {},
   "outputs": [],
   "source": [
    "def start_end_decorator(func):\n",
    "    def wrapper(*args, **kwargs):\n",
    "        print(\"Start\")\n",
    "        result = func(*args, **kwargs)\n",
    "        print(\"End\")\n",
    "        return result\n",
    "    \n",
    "    return wrapper\n",
    "\n",
    "def say_my_name(name):\n",
    "    print(f\"Hello {name}\")"
   ]
  },
  {
   "cell_type": "code",
   "execution_count": 2,
   "metadata": {},
   "outputs": [
    {
     "name": "stdout",
     "output_type": "stream",
     "text": [
      "Hello vinald\n"
     ]
    }
   ],
   "source": [
    "say_my_name(\"vinald\")"
   ]
  },
  {
   "cell_type": "code",
   "execution_count": 3,
   "metadata": {},
   "outputs": [
    {
     "name": "stdout",
     "output_type": "stream",
     "text": [
      "Start\n",
      "Hello vinald\n",
      "End\n"
     ]
    }
   ],
   "source": [
    "start_end_decorator(say_my_name)(\"vinald\")"
   ]
  },
  {
   "cell_type": "code",
   "execution_count": 4,
   "metadata": {},
   "outputs": [
    {
     "name": "stdout",
     "output_type": "stream",
     "text": [
      "Start\n",
      "Hello vinald\n",
      "End\n"
     ]
    }
   ],
   "source": [
    "@start_end_decorator\n",
    "def say_my_name(name):\n",
    "    print(f\"Hello {name}\")\n",
    "\n",
    "say_my_name(\"vinald\")"
   ]
  },
  {
   "cell_type": "code",
   "execution_count": 5,
   "metadata": {},
   "outputs": [],
   "source": [
    "import time\n",
    "\n",
    "# Timing decorator\n",
    "def timing(function):\n",
    "    def wrapper(*args, **kwargs):\n",
    "        start = time.time()\n",
    "        ret = function(*args, **kwargs)\n",
    "        end = time.time()\n",
    "        print(f'{function.__name__} took {end - start} seconds')\n",
    "        return ret\n",
    "    return wrapper  \n",
    "\n",
    "\n",
    "# logging\n",
    "def logged(function):\n",
    "    def wrapper(*args, **kwargs):\n",
    "        value = function(*args, **kwargs)\n",
    "        with open('login.txt', 'a+') as f:\n",
    "            fname = function.__name__\n",
    "            print(f'{fname} {value}')\n",
    "            f.write(f'{fname}: {value}\\n')\n",
    "        return value\n",
    "    \n",
    "    return wrapper"
   ]
  },
  {
   "cell_type": "code",
   "execution_count": 6,
   "metadata": {},
   "outputs": [
    {
     "name": "stdout",
     "output_type": "stream",
     "text": [
      "4\n"
     ]
    }
   ],
   "source": [
    "# Without decorator\n",
    "def adding(x, y):\n",
    "    return x + y\n",
    "\n",
    "\n",
    "add1 = adding(1, 3)\n",
    "print(add1)"
   ]
  },
  {
   "cell_type": "code",
   "execution_count": 7,
   "metadata": {},
   "outputs": [
    {
     "name": "stdout",
     "output_type": "stream",
     "text": [
      "multi 6\n",
      "wrapper took 0.001516103744506836 seconds\n",
      "6\n"
     ]
    }
   ],
   "source": [
    "# With decorator\n",
    "@timing\n",
    "@logged\n",
    "def multi(x, y):\n",
    "    return x * y\n",
    "\n",
    "mul1 = multi(2, 3)\n",
    "print(mul1)"
   ]
  },
  {
   "cell_type": "code",
   "execution_count": 8,
   "metadata": {},
   "outputs": [],
   "source": [
    "# counter\n",
    "class CounterCall:\n",
    "    def __init__(self, function):\n",
    "        self.count = 0\n",
    "        self.function = function\n",
    "\n",
    "    def __call__(self, *args, **kwargs):\n",
    "        self.count += 1\n",
    "        print(f'function {self.function.__name__} was called {self.count} time(s)')\n",
    "        return self.function(*args, **kwargs)\n",
    "    \n",
    "\n",
    "@CounterCall\n",
    "def adding(x, y):\n",
    "    return x + y"
   ]
  },
  {
   "cell_type": "code",
   "execution_count": 9,
   "metadata": {},
   "outputs": [
    {
     "name": "stdout",
     "output_type": "stream",
     "text": [
      "function adding was called 1 time(s)\n",
      "3\n",
      "function adding was called 2 time(s)\n",
      "4\n",
      "function adding was called 3 time(s)\n",
      "7\n"
     ]
    }
   ],
   "source": [
    "add1 = adding(2, 1)\n",
    "print(add1)\n",
    "\n",
    "add1 = adding(2, 2)\n",
    "print(add1)\n",
    "\n",
    "add1 = adding(2, 5)\n",
    "print(add1)"
   ]
  },
  {
   "cell_type": "code",
   "execution_count": null,
   "metadata": {},
   "outputs": [],
   "source": []
  }
 ],
 "metadata": {
  "kernelspec": {
   "display_name": "allenv",
   "language": "python",
   "name": "python3"
  },
  "language_info": {
   "codemirror_mode": {
    "name": "ipython",
    "version": 3
   },
   "file_extension": ".py",
   "mimetype": "text/x-python",
   "name": "python",
   "nbconvert_exporter": "python",
   "pygments_lexer": "ipython3",
   "version": "3.12.3"
  }
 },
 "nbformat": 4,
 "nbformat_minor": 2
}
