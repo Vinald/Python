{
 "cells": [
  {
   "cell_type": "markdown",
   "metadata": {},
   "source": [
    "### if"
   ]
  },
  {
   "cell_type": "code",
   "execution_count": 1,
   "metadata": {},
   "outputs": [
    {
     "name": "stdout",
     "output_type": "stream",
     "text": [
      "True\n"
     ]
    }
   ],
   "source": [
    "num = 1\n",
    "if num == 1:\n",
    "    print(True)"
   ]
  },
  {
   "cell_type": "markdown",
   "metadata": {},
   "source": [
    "### if else"
   ]
  },
  {
   "cell_type": "code",
   "execution_count": 2,
   "metadata": {},
   "outputs": [
    {
     "name": "stdout",
     "output_type": "stream",
     "text": [
      "False\n"
     ]
    }
   ],
   "source": [
    "if num == 2:\n",
    "    print(True)\n",
    "else:\n",
    "    print(False)"
   ]
  },
  {
   "cell_type": "markdown",
   "metadata": {},
   "source": [
    "### if elif else"
   ]
  },
  {
   "cell_type": "code",
   "execution_count": 3,
   "metadata": {},
   "outputs": [
    {
     "name": "stdout",
     "output_type": "stream",
     "text": [
      "option 2\n"
     ]
    }
   ],
   "source": [
    "num = int(input('Enter a number'))\n",
    "\n",
    "if num == 1:\n",
    "    print('option 1')\n",
    "elif num == 2:\n",
    "    print('option 2')\n",
    "elif num == 3:\n",
    "    print('option 3')\n",
    "elif num == 4:\n",
    "    print('option 4')\n",
    "else:\n",
    "    print('Invalid number')"
   ]
  },
  {
   "cell_type": "code",
   "execution_count": 4,
   "metadata": {},
   "outputs": [
    {
     "name": "stdout",
     "output_type": "stream",
     "text": [
      "option 2\n"
     ]
    }
   ],
   "source": [
    "num = int(input('Enter a number'))\n",
    "\n",
    "if num == 1:\n",
    "    print('option 1')\n",
    "elif num == 2:\n",
    "    print('option 2')\n",
    "elif num == 3:\n",
    "    print('option 3')\n",
    "elif num == 4:\n",
    "    print('option 4')\n",
    "else:\n",
    "    print('Invalid number')"
   ]
  },
  {
   "cell_type": "code",
   "execution_count": 5,
   "metadata": {},
   "outputs": [
    {
     "name": "stdout",
     "output_type": "stream",
     "text": [
      "option 2\n"
     ]
    }
   ],
   "source": [
    "num = int(input('Enter a number'))\n",
    "\n",
    "if num == 1:\n",
    "    print('option 1')\n",
    "elif num == 2:\n",
    "    print('option 2')\n",
    "elif num == 3:\n",
    "    print('option 3')\n",
    "elif num == 4:\n",
    "    print('option 4')\n",
    "else:\n",
    "    print('Invalid number')\n",
    "    "
   ]
  }
 ],
 "metadata": {
  "kernelspec": {
   "display_name": "allenv",
   "language": "python",
   "name": "python3"
  },
  "language_info": {
   "codemirror_mode": {
    "name": "ipython",
    "version": 3
   },
   "file_extension": ".py",
   "mimetype": "text/x-python",
   "name": "python",
   "nbconvert_exporter": "python",
   "pygments_lexer": "ipython3",
   "version": "3.12.3"
  }
 },
 "nbformat": 4,
 "nbformat_minor": 2
}
