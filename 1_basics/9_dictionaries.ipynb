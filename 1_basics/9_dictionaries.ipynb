{
 "cells": [
  {
   "cell_type": "markdown",
   "metadata": {},
   "source": [
    "## Dictionaries"
   ]
  },
  {
   "cell_type": "code",
   "execution_count": 1,
   "metadata": {},
   "outputs": [
    {
     "name": "stdout",
     "output_type": "stream",
     "text": [
      "{'name': 'John', 'age': 23, 'sex': 'male', 'grade': 3}\n",
      "<class 'dict'>\n"
     ]
    }
   ],
   "source": [
    "person = {\n",
    "    'name': 'John',\n",
    "    'age': 23,\n",
    "    'sex': 'male',\n",
    "    'grade': 3,\n",
    "}\n",
    "\n",
    "print(person)\n",
    "print(type(person))\n"
   ]
  },
  {
   "cell_type": "code",
   "execution_count": 2,
   "metadata": {},
   "outputs": [
    {
     "name": "stdout",
     "output_type": "stream",
     "text": [
      "name John\n",
      "age 23\n",
      "sex male\n",
      "grade 3\n"
     ]
    }
   ],
   "source": [
    "# Loop through the dictionary\n",
    "for key, value in person.items():\n",
    "    print(key, value)"
   ]
  },
  {
   "cell_type": "code",
   "execution_count": 3,
   "metadata": {},
   "outputs": [
    {
     "name": "stdout",
     "output_type": "stream",
     "text": [
      "name\n",
      "age\n",
      "sex\n",
      "grade\n"
     ]
    }
   ],
   "source": [
    "# Keys\n",
    "for key in person.keys():\n",
    "    print(key)"
   ]
  },
  {
   "cell_type": "code",
   "execution_count": 4,
   "metadata": {},
   "outputs": [
    {
     "name": "stdout",
     "output_type": "stream",
     "text": [
      "John\n",
      "23\n",
      "male\n",
      "3\n"
     ]
    }
   ],
   "source": [
    "# values\n",
    "for value in person.values():\n",
    "    print(value)"
   ]
  },
  {
   "cell_type": "code",
   "execution_count": 5,
   "metadata": {},
   "outputs": [
    {
     "name": "stdout",
     "output_type": "stream",
     "text": [
      "John\n",
      "{'name': 'vinald', 'age': 23, 'sex': 'male', 'grade': 3, 'year': 2024}\n"
     ]
    }
   ],
   "source": [
    "# Accessing the dictionary\n",
    "print(person['name'])\n",
    "person['year'] = 2024\n",
    "person['name'] = 'vinald'\n",
    "\n",
    "print(person)"
   ]
  },
  {
   "cell_type": "code",
   "execution_count": 6,
   "metadata": {},
   "outputs": [],
   "source": [
    "months = {\n",
    "    'jan': 'january',\n",
    "    'feb': 'february',\n",
    "    'march': 'march',\n",
    "    'apr': 'april',\n",
    "    'may': 'may',\n",
    "    'jun': 'june',\n",
    "    'jul': 'july',\n",
    "    'aug': 'august',\n",
    "    'sept': 'september',\n",
    "    'oct': 'october',\n",
    "    'nov': 'november',\n",
    "}"
   ]
  },
  {
   "cell_type": "code",
   "execution_count": 7,
   "metadata": {},
   "outputs": [
    {
     "name": "stdout",
     "output_type": "stream",
     "text": [
      "{'jan': 'january', 'feb': 'february', 'march': 'march', 'apr': 'april', 'may': 'may', 'jun': 'june', 'jul': 'july', 'aug': 'august', 'sept': 'september', 'oct': 'october', 'nov': 'november'}\n"
     ]
    }
   ],
   "source": [
    "print(months)"
   ]
  },
  {
   "cell_type": "code",
   "execution_count": 8,
   "metadata": {},
   "outputs": [
    {
     "name": "stdout",
     "output_type": "stream",
     "text": [
      "january\n",
      "None\n"
     ]
    }
   ],
   "source": [
    "# Accessing the dictionary\n",
    "print(months['jan'])\n",
    "print(months.get('samuel'))"
   ]
  },
  {
   "cell_type": "code",
   "execution_count": 9,
   "metadata": {},
   "outputs": [
    {
     "name": "stdout",
     "output_type": "stream",
     "text": [
      "dict_keys(['jan', 'feb', 'march', 'apr', 'may', 'jun', 'jul', 'aug', 'sept', 'oct', 'nov'])\n"
     ]
    }
   ],
   "source": [
    "# Printing the keys\n",
    "print(months.keys())"
   ]
  },
  {
   "cell_type": "code",
   "execution_count": 10,
   "metadata": {},
   "outputs": [
    {
     "name": "stdout",
     "output_type": "stream",
     "text": [
      "dict_values(['january', 'february', 'march', 'april', 'may', 'june', 'july', 'august', 'september', 'october', 'november'])\n"
     ]
    }
   ],
   "source": [
    "# Printing the values\n",
    "print(months.values())"
   ]
  },
  {
   "cell_type": "code",
   "execution_count": 11,
   "metadata": {},
   "outputs": [
    {
     "name": "stdout",
     "output_type": "stream",
     "text": [
      "dict_items([('jan', 'january'), ('feb', 'february'), ('march', 'march'), ('apr', 'april'), ('may', 'may'), ('jun', 'june'), ('jul', 'july'), ('aug', 'august'), ('sept', 'september'), ('oct', 'october'), ('nov', 'november')])\n"
     ]
    }
   ],
   "source": [
    "# Printing the items (key value pairs)\n",
    "print(months.items())"
   ]
  },
  {
   "cell_type": "code",
   "execution_count": 12,
   "metadata": {},
   "outputs": [],
   "source": [
    "# Adding a new key value pair\n",
    "months.update({'dec': 'december'})"
   ]
  },
  {
   "cell_type": "code",
   "execution_count": 13,
   "metadata": {},
   "outputs": [
    {
     "name": "stdout",
     "output_type": "stream",
     "text": [
      "jan january\n",
      "feb february\n",
      "march march\n",
      "apr april\n",
      "may may\n",
      "jun june\n",
      "jul july\n",
      "aug august\n",
      "sept september\n",
      "oct october\n",
      "nov november\n",
      "dec december\n"
     ]
    }
   ],
   "source": [
    "# Loop through the dictionary\n",
    "for key, value in months.items():\n",
    "    print(key, value)"
   ]
  },
  {
   "cell_type": "code",
   "execution_count": null,
   "metadata": {},
   "outputs": [],
   "source": []
  }
 ],
 "metadata": {
  "kernelspec": {
   "display_name": "allenv",
   "language": "python",
   "name": "python3"
  },
  "language_info": {
   "codemirror_mode": {
    "name": "ipython",
    "version": 3
   },
   "file_extension": ".py",
   "mimetype": "text/x-python",
   "name": "python",
   "nbconvert_exporter": "python",
   "pygments_lexer": "ipython3",
   "version": "3.12.3"
  }
 },
 "nbformat": 4,
 "nbformat_minor": 2
}
