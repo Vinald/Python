{
 "cells": [
  {
   "cell_type": "markdown",
   "metadata": {},
   "source": [
    "## Strings"
   ]
  },
  {
   "cell_type": "markdown",
   "metadata": {},
   "source": [
    "### String format"
   ]
  },
  {
   "cell_type": "code",
   "execution_count": 1,
   "metadata": {},
   "outputs": [
    {
     "name": "stdout",
     "output_type": "stream",
     "text": [
      "Hello, samuel\n",
      "Hello, samuel\n",
      "Hello, samuel\n"
     ]
    }
   ],
   "source": [
    "name = 'samuel'\n",
    "\n",
    "print('Hello, %s' % name)\n",
    "print('Hello, {}'.format(name))\n",
    "print(f'Hello, {name}')"
   ]
  },
  {
   "cell_type": "code",
   "execution_count": 2,
   "metadata": {},
   "outputs": [
    {
     "name": "stdout",
     "output_type": "stream",
     "text": [
      "Hello,     samuel\n",
      "Hello,     samuel\n",
      "Hello, samuel    \n",
      "Hello,   samuel  \n"
     ]
    }
   ],
   "source": [
    "# padding\n",
    "print('Hello, %10s' % name)\n",
    "print('Hello, {:>10}'.format(name))\n",
    "print(f'Hello, {name:<10}')\n",
    "print(f'Hello, {name:^10}')"
   ]
  },
  {
   "cell_type": "code",
   "execution_count": 11,
   "metadata": {},
   "outputs": [
    {
     "name": "stdout",
     "output_type": "stream",
     "text": [
      "John + Peter is John Peter\n",
      "First name John last name Peter\n",
      "first name John last name Peter\n",
      "First name John last name Peter\n",
      "First name Peter last name John\n"
     ]
    }
   ],
   "source": [
    "first_name = 'John'\n",
    "last_name = 'Peter'\n",
    "full_name = first_name + ' ' +last_name\n",
    "\n",
    "print(f'{first_name} + {last_name} is {full_name}')\n",
    "print(f'First name {first_name} last name {last_name}')\n",
    "print('first name {first_name} last name {last_name}'.format(first_name=first_name, last_name=last_name))\n",
    "print('First name {} last name {}'.format(first_name, last_name))\n",
    "print('First name {1} last name {0}'.format(first_name, last_name))"
   ]
  },
  {
   "cell_type": "markdown",
   "metadata": {},
   "source": [
    "## other methods"
   ]
  },
  {
   "cell_type": "code",
   "execution_count": 3,
   "metadata": {},
   "outputs": [
    {
     "name": "stdout",
     "output_type": "stream",
     "text": [
      "The length of the name samuel is 6\n"
     ]
    }
   ],
   "source": [
    "# Length of a string\n",
    "print(f'The length of the name {name} is {len(name)}')"
   ]
  },
  {
   "cell_type": "code",
   "execution_count": 5,
   "metadata": {},
   "outputs": [
    {
     "name": "stdout",
     "output_type": "stream",
     "text": [
      "samuel in lower case is samuel\n",
      "samuel in upper case is SAMUEL\n",
      "samuel in title case is Samuel\n",
      "samuel in swapcase is SAMUEL\n"
     ]
    }
   ],
   "source": [
    "# Cases \n",
    "print(f'{name} in lower case is {name.lower()}')\n",
    "print(f'{name} in upper case is {name.upper()}')\n",
    "print(f'{name} in title case is {name.title()}')\n",
    "print(f'{name} in swapcase is {name.swapcase()}')"
   ]
  },
  {
   "cell_type": "code",
   "execution_count": 7,
   "metadata": {},
   "outputs": [
    {
     "name": "stdout",
     "output_type": "stream",
     "text": [
      "samuel starts with s True\n",
      "samuel ends with d False\n"
     ]
    }
   ],
   "source": [
    "# starts with\n",
    "print(f'{name} starts with s {name.startswith(\"s\")}')\n",
    "\n",
    "# Ends with\n",
    "print(f'{name} ends with d {name.endswith(\"d\")}')"
   ]
  },
  {
   "cell_type": "code",
   "execution_count": 8,
   "metadata": {},
   "outputs": [
    {
     "name": "stdout",
     "output_type": "stream",
     "text": [
      "replacing samuel with vinald\n"
     ]
    }
   ],
   "source": [
    "# replace\n",
    "print(f'replacing {name} with {name.replace(name, \"vinald\")}')"
   ]
  },
  {
   "cell_type": "code",
   "execution_count": 9,
   "metadata": {},
   "outputs": [
    {
     "name": "stdout",
     "output_type": "stream",
     "text": [
      "the reverse of samuel in leumas\n"
     ]
    }
   ],
   "source": [
    "# reverse\n",
    "print(f'the reverse of {name} in {name[::-1]}')"
   ]
  },
  {
   "cell_type": "markdown",
   "metadata": {},
   "source": [
    "### slicing"
   ]
  },
  {
   "cell_type": "code",
   "execution_count": 12,
   "metadata": {},
   "outputs": [
    {
     "data": {
      "text/plain": [
       "'mue'"
      ]
     },
     "execution_count": 12,
     "metadata": {},
     "output_type": "execute_result"
    }
   ],
   "source": [
    "# slicing\n",
    "name = 'samuel'\n",
    "name[slice(2, -1)]"
   ]
  },
  {
   "cell_type": "code",
   "execution_count": 13,
   "metadata": {},
   "outputs": [
    {
     "name": "stdout",
     "output_type": "stream",
     "text": [
      "google\n"
     ]
    }
   ],
   "source": [
    "website = 'www.google.com'\n",
    "print(website[slice(4, -4)])"
   ]
  },
  {
   "cell_type": "markdown",
   "metadata": {},
   "source": [
    "### Suffix and prefix"
   ]
  },
  {
   "cell_type": "code",
   "execution_count": 14,
   "metadata": {},
   "outputs": [
    {
     "name": "stdout",
     "output_type": "stream",
     "text": [
      "schemas.open\n"
     ]
    }
   ],
   "source": [
    "name = 'https://schemas.open'\n",
    "print(name.removeprefix('https://'))"
   ]
  },
  {
   "cell_type": "code",
   "execution_count": 15,
   "metadata": {},
   "outputs": [
    {
     "name": "stdout",
     "output_type": "stream",
     "text": [
      "https://schemas\n"
     ]
    }
   ],
   "source": [
    "print(name.removesuffix('.open'))"
   ]
  },
  {
   "cell_type": "code",
   "execution_count": null,
   "metadata": {},
   "outputs": [],
   "source": []
  }
 ],
 "metadata": {
  "kernelspec": {
   "display_name": "allenv",
   "language": "python",
   "name": "python3"
  },
  "language_info": {
   "codemirror_mode": {
    "name": "ipython",
    "version": 3
   },
   "file_extension": ".py",
   "mimetype": "text/x-python",
   "name": "python",
   "nbconvert_exporter": "python",
   "pygments_lexer": "ipython3",
   "version": "3.12.3"
  }
 },
 "nbformat": 4,
 "nbformat_minor": 2
}
