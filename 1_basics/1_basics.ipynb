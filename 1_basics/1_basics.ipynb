{
 "cells": [
  {
   "cell_type": "markdown",
   "metadata": {},
   "source": [
    "## Variables"
   ]
  },
  {
   "cell_type": "code",
   "execution_count": 1,
   "metadata": {},
   "outputs": [
    {
     "name": "stdout",
     "output_type": "stream",
     "text": [
      "Vinald starting python\n"
     ]
    }
   ],
   "source": [
    "# Print function\n",
    "print('Vinald starting python')"
   ]
  },
  {
   "cell_type": "code",
   "execution_count": 2,
   "metadata": {},
   "outputs": [
    {
     "name": "stdout",
     "output_type": "stream",
     "text": [
      "samuel\n"
     ]
    }
   ],
   "source": [
    "# variables\n",
    "name = 'samuel'\n",
    "print(name)"
   ]
  },
  {
   "cell_type": "code",
   "execution_count": 3,
   "metadata": {},
   "outputs": [
    {
     "name": "stdout",
     "output_type": "stream",
     "text": [
      "24\n"
     ]
    }
   ],
   "source": [
    "age = 24\n",
    "print(age)"
   ]
  },
  {
   "cell_type": "code",
   "execution_count": 4,
   "metadata": {},
   "outputs": [
    {
     "name": "stdout",
     "output_type": "stream",
     "text": [
      "25\n"
     ]
    }
   ],
   "source": [
    "new_age = age + 1\n",
    "print(new_age)"
   ]
  },
  {
   "cell_type": "markdown",
   "metadata": {},
   "source": [
    "## Data types"
   ]
  },
  {
   "cell_type": "code",
   "execution_count": 5,
   "metadata": {},
   "outputs": [
    {
     "name": "stdout",
     "output_type": "stream",
     "text": [
      "samuel is of type <class 'str'>\n"
     ]
    }
   ],
   "source": [
    "# strings\n",
    "name = 'samuel'\n",
    "print(f'{name} is of type {type(name)}')"
   ]
  },
  {
   "cell_type": "code",
   "execution_count": 6,
   "metadata": {},
   "outputs": [
    {
     "name": "stdout",
     "output_type": "stream",
     "text": [
      "24 is of type <class 'int'>\n"
     ]
    }
   ],
   "source": [
    "# integer\n",
    "age = 24\n",
    "print(f'{age} is of type {type(age)}')"
   ]
  },
  {
   "cell_type": "code",
   "execution_count": 8,
   "metadata": {},
   "outputs": [
    {
     "name": "stdout",
     "output_type": "stream",
     "text": [
      "6.0 is of type <class 'float'>\n",
      "100000000000.0 is of type <class 'float'>\n"
     ]
    }
   ],
   "source": [
    "# float\n",
    "height = 6.0\n",
    "password = 10e10\n",
    "print(f'{height} is of type {type(height)}')\n",
    "print(f'{password} is of type {type(password)}')"
   ]
  },
  {
   "cell_type": "code",
   "execution_count": 10,
   "metadata": {},
   "outputs": [
    {
     "name": "stdout",
     "output_type": "stream",
     "text": [
      "True is of type <class 'bool'>\n",
      "False is of type <class 'bool'>\n"
     ]
    }
   ],
   "source": [
    "# boolean\n",
    "is_male = True\n",
    "is_female = False\n",
    "print(f'{is_male} is of type {type(is_male)}')\n",
    "print(f'{is_female} is of type {type(is_female)}')"
   ]
  },
  {
   "cell_type": "code",
   "execution_count": 11,
   "metadata": {},
   "outputs": [
    {
     "name": "stdout",
     "output_type": "stream",
     "text": [
      "Variable    Type     Data/Info\n",
      "------------------------------\n",
      "age         int      24\n",
      "height      float    6.0\n",
      "is_female   bool     False\n",
      "is_male     bool     True\n",
      "name        str      samuel\n",
      "new_age     int      25\n",
      "password    float    100000000000.0\n"
     ]
    }
   ],
   "source": [
    "# seeing variables and their values\n",
    "%whos"
   ]
  },
  {
   "cell_type": "markdown",
   "metadata": {},
   "source": [
    "## Type casting"
   ]
  },
  {
   "cell_type": "code",
   "execution_count": 12,
   "metadata": {},
   "outputs": [
    {
     "name": "stdout",
     "output_type": "stream",
     "text": [
      "Data type of 100 in <class 'int'>\n"
     ]
    }
   ],
   "source": [
    "# Integer\n",
    "x = 100\n",
    "print(f'Data type of {x} in {type(x)}')"
   ]
  },
  {
   "cell_type": "code",
   "execution_count": 13,
   "metadata": {},
   "outputs": [
    {
     "name": "stdout",
     "output_type": "stream",
     "text": [
      "Data type of 100 in <class 'str'>\n"
     ]
    }
   ],
   "source": [
    "# integer into a string\n",
    "x = str(x)\n",
    "print(f'Data type of {x} in {type(x)}')"
   ]
  },
  {
   "cell_type": "code",
   "execution_count": 14,
   "metadata": {},
   "outputs": [
    {
     "name": "stdout",
     "output_type": "stream",
     "text": [
      "Data type of 100.0 in <class 'float'>\n"
     ]
    }
   ],
   "source": [
    "# string to float \n",
    "x = float(x)\n",
    "print(f'Data type of {x} in {type(x)}')"
   ]
  },
  {
   "cell_type": "code",
   "execution_count": 15,
   "metadata": {},
   "outputs": [
    {
     "name": "stdout",
     "output_type": "stream",
     "text": [
      "Data type of 100 in <class 'int'>\n"
     ]
    }
   ],
   "source": [
    "# float to integer\n",
    "x = int(x)\n",
    "print(f'Data type of {x} in {type(x)}')"
   ]
  },
  {
   "cell_type": "markdown",
   "metadata": {},
   "source": [
    "## User input"
   ]
  },
  {
   "cell_type": "code",
   "execution_count": 16,
   "metadata": {},
   "outputs": [
    {
     "name": "stdout",
     "output_type": "stream",
     "text": [
      "Hello samuell\n"
     ]
    }
   ],
   "source": [
    "# string\n",
    "name = input('Enter your name: ')\n",
    "print(f'Hello {name}')"
   ]
  },
  {
   "cell_type": "code",
   "execution_count": 17,
   "metadata": {},
   "outputs": [
    {
     "name": "stdout",
     "output_type": "stream",
     "text": [
      "You are 24 years old\n"
     ]
    }
   ],
   "source": [
    "# integer\n",
    "age = int(input('Enter your age: '))\n",
    "print(f'You are {age} years old')"
   ]
  },
  {
   "cell_type": "code",
   "execution_count": 18,
   "metadata": {},
   "outputs": [
    {
     "name": "stdout",
     "output_type": "stream",
     "text": [
      "You are 6.0 feet tall\n"
     ]
    }
   ],
   "source": [
    "# float\n",
    "height = float(input('Enter your height: '))\n",
    "print(f'You are {height} feet tall')"
   ]
  },
  {
   "cell_type": "markdown",
   "metadata": {},
   "source": [
    "## Operators"
   ]
  },
  {
   "cell_type": "code",
   "execution_count": 19,
   "metadata": {},
   "outputs": [],
   "source": [
    "num1 = 10\n",
    "num2 = 2"
   ]
  },
  {
   "cell_type": "code",
   "execution_count": 20,
   "metadata": {},
   "outputs": [
    {
     "name": "stdout",
     "output_type": "stream",
     "text": [
      "10 + 2 = 12\n"
     ]
    }
   ],
   "source": [
    "# addition\n",
    "num = num1 + num2\n",
    "print(f'{num1} + {num2} = {num}')"
   ]
  },
  {
   "cell_type": "code",
   "execution_count": 21,
   "metadata": {},
   "outputs": [
    {
     "name": "stdout",
     "output_type": "stream",
     "text": [
      "10 - 2 = 8\n"
     ]
    }
   ],
   "source": [
    "# subtraction\n",
    "num = num1 - num2\n",
    "print(f'{num1} - {num2} = {num}')"
   ]
  },
  {
   "cell_type": "code",
   "execution_count": 22,
   "metadata": {},
   "outputs": [
    {
     "name": "stdout",
     "output_type": "stream",
     "text": [
      "10 * 2 = 20\n"
     ]
    }
   ],
   "source": [
    "# multiplication\n",
    "num = num1 * num2\n",
    "print(f'{num1} * {num2} = {num}')"
   ]
  },
  {
   "cell_type": "code",
   "execution_count": 23,
   "metadata": {},
   "outputs": [
    {
     "name": "stdout",
     "output_type": "stream",
     "text": [
      "10 / 2 = 5.0\n"
     ]
    }
   ],
   "source": [
    "# division\n",
    "num = num1 / num2\n",
    "print(f'{num1} / {num2} = {num}')"
   ]
  },
  {
   "cell_type": "code",
   "execution_count": 24,
   "metadata": {},
   "outputs": [
    {
     "name": "stdout",
     "output_type": "stream",
     "text": [
      "10 % 2 = 0\n"
     ]
    }
   ],
   "source": [
    "# modulus\n",
    "num = num1 % num2\n",
    "print(f'{num1} % {num2} = {num}')"
   ]
  },
  {
   "cell_type": "code",
   "execution_count": 25,
   "metadata": {},
   "outputs": [
    {
     "name": "stdout",
     "output_type": "stream",
     "text": [
      "10 // 2 = 5\n"
     ]
    }
   ],
   "source": [
    "# floor division\n",
    "num = num1 // num2\n",
    "print(f'{num1} // {num2} = {num}')"
   ]
  },
  {
   "cell_type": "code",
   "execution_count": 26,
   "metadata": {},
   "outputs": [
    {
     "name": "stdout",
     "output_type": "stream",
     "text": [
      "10 == 2 is False\n"
     ]
    }
   ],
   "source": [
    "# equal too\n",
    "num = num1 == num2\n",
    "print(f'{num1} == {num2} is {num}')"
   ]
  },
  {
   "cell_type": "code",
   "execution_count": 28,
   "metadata": {},
   "outputs": [
    {
     "name": "stdout",
     "output_type": "stream",
     "text": [
      "10 != 2 is True\n"
     ]
    }
   ],
   "source": [
    "# not equal too\n",
    "num = num1 != num2\n",
    "print(f'{num1} != {num2} is {num}')"
   ]
  },
  {
   "cell_type": "code",
   "execution_count": 27,
   "metadata": {},
   "outputs": [
    {
     "name": "stdout",
     "output_type": "stream",
     "text": [
      "10 > 2 is True\n"
     ]
    }
   ],
   "source": [
    "# greater than\n",
    "num = num1 > num2\n",
    "print(f'{num1} > {num2} is {num}')"
   ]
  },
  {
   "cell_type": "code",
   "execution_count": 29,
   "metadata": {},
   "outputs": [
    {
     "name": "stdout",
     "output_type": "stream",
     "text": [
      "The number is 1000000\n",
      "The number is 1000000\n",
      "The number is 1000000\n",
      "The number is 1000000\n",
      "The number is 1.000000E+06\n",
      "The number is F4240\n",
      "The number is 1,000,000\n"
     ]
    }
   ],
   "source": [
    "# numbers representations\n",
    "num = 1000000\n",
    "print('The number is %d' % num)\n",
    "print('The number is {:d}'.format(num))\n",
    "print(f'The number is {num}')\n",
    "print(f'The number is {num:d}')\n",
    "print(f'The number is {num:E}')\n",
    "print(f'The number is {num:X}')\n",
    "print(f'The number is {num:,}')"
   ]
  },
  {
   "cell_type": "code",
   "execution_count": null,
   "metadata": {},
   "outputs": [],
   "source": []
  }
 ],
 "metadata": {
  "kernelspec": {
   "display_name": "allenv",
   "language": "python",
   "name": "python3"
  },
  "language_info": {
   "codemirror_mode": {
    "name": "ipython",
    "version": 3
   },
   "file_extension": ".py",
   "mimetype": "text/x-python",
   "name": "python",
   "nbconvert_exporter": "python",
   "pygments_lexer": "ipython3",
   "version": "3.12.3"
  }
 },
 "nbformat": 4,
 "nbformat_minor": 2
}
