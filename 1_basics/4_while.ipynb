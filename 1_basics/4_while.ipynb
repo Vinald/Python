{
 "cells": [
  {
   "cell_type": "markdown",
   "metadata": {},
   "source": [
    "## While Loops"
   ]
  },
  {
   "cell_type": "code",
   "execution_count": 1,
   "metadata": {},
   "outputs": [
    {
     "name": "stdout",
     "output_type": "stream",
     "text": [
      "0   1   2   3   4   5   6   7   8   9   \n"
     ]
    }
   ],
   "source": [
    "counter = 0\n",
    "\n",
    "while counter < 10:\n",
    "    print(counter, end='   ')\n",
    "    counter += 1\n",
    "    \n",
    "print()"
   ]
  },
  {
   "cell_type": "code",
   "execution_count": 2,
   "metadata": {},
   "outputs": [
    {
     "name": "stdout",
     "output_type": "stream",
     "text": [
      "your name is: samuel\n"
     ]
    }
   ],
   "source": [
    "name = \"\"\n",
    "\n",
    "while name == \"\":\n",
    "    name = input('enter your name: ')\n",
    "    \n",
    "print('your name is:', name)"
   ]
  },
  {
   "cell_type": "code",
   "execution_count": 3,
   "metadata": {},
   "outputs": [
    {
     "name": "stdout",
     "output_type": "stream",
     "text": [
      "Car started\n",
      "Car is already started\n",
      "Car stopped\n",
      "Car is already stopped\n",
      "Command unknown!!!!\n",
      "Exiting\n"
     ]
    }
   ],
   "source": [
    "from time import sleep\n",
    "\n",
    "command = ''\n",
    "started = False\n",
    "\n",
    "while True:\n",
    "    command = input('Enter the command').lower()\n",
    "    \n",
    "    if command == 'start':\n",
    "        if started:\n",
    "            print('Car is already started')\n",
    "        else:\n",
    "            started = True\n",
    "            print('Car started')\n",
    "        \n",
    "    elif command == 'stop':\n",
    "        if not started:\n",
    "            print('Car is already stopped')\n",
    "        else:\n",
    "            started = False\n",
    "            print('Car stopped')\n",
    "            \n",
    "    elif command == 'help':\n",
    "        print('''\n",
    "              start -> To start a car\n",
    "              stop -> To stop the car\n",
    "              help -> To display help\n",
    "              quit -> To end the game\n",
    "              ''')\n",
    "    elif command == 'quit':\n",
    "        print('Exiting')\n",
    "        sleep(1)\n",
    "        break\n",
    "    else:\n",
    "        print('Command unknown!!!!')\n",
    "        sleep(1)\n",
    "        continue"
   ]
  },
  {
   "cell_type": "code",
   "execution_count": null,
   "metadata": {},
   "outputs": [],
   "source": []
  }
 ],
 "metadata": {
  "kernelspec": {
   "display_name": "allenv",
   "language": "python",
   "name": "python3"
  },
  "language_info": {
   "codemirror_mode": {
    "name": "ipython",
    "version": 3
   },
   "file_extension": ".py",
   "mimetype": "text/x-python",
   "name": "python",
   "nbconvert_exporter": "python",
   "pygments_lexer": "ipython3",
   "version": "3.12.3"
  }
 },
 "nbformat": 4,
 "nbformat_minor": 2
}
